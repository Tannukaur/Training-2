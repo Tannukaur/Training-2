{
  "nbformat": 4,
  "nbformat_minor": 0,
  "metadata": {
    "colab": {
      "provenance": [],
      "collapsed_sections": []
    },
    "kernelspec": {
      "name": "python3",
      "display_name": "Python 3"
    },
    "language_info": {
      "name": "python"
    }
  },
  "cells": [
    {
      "cell_type": "code",
      "source": [
        "Data Science \"This is my new project for practice\""
      ],
      "metadata": {
        "id": "jntQMd9MKZYS"
      },
      "execution_count": null,
      "outputs": []
    }
  ]
}